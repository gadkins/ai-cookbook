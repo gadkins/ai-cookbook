{
  "cells": [
    {
      "cell_type": "markdown",
      "metadata": {
        "id": "iIg0dHk5e9px"
      },
      "source": [
        "# **Detecting PII in LLM-Powered Chat Applications**\n",
        "\n",
        "by [Grayson Adkins](https://twitter.com/GraysonAdkins), updated April 17, 2024  \n",
        "\n",
        "This notebook demonstrates how to evaluate user prompts and LLM responses for personally identifiable infromation (PII) such as contact information, financial or banking info, digital identifiers, job related data, or other sensitive personal information.  \n",
        "\n",
        "We use the [`bigcode/starpii`](https://huggingface.co/bigcode/starpii) PII detection model available on Hugging Face plus LangChain for crafting prompt templates and TruLens for running evaluation and visualizing results.\n",
        "\n",
        "<a href=\"https://colab.research.google.com/drive/1hDIIgKUJVoxm_ymglD3w_Z7IQasRwyqA?usp=sharing\" target=\"_parent\"><img src=\"https://colab.research.google.com/assets/colab-badge.svg\" alt=\"Open In Colab\"/></a>\n",
        "\n",
        "## Attribution\n",
        "\n",
        " This notebook builds on [examples provided by TruLens](https://github.com/truera/trulens/tree/main/trulens_eval/examples).  \n",
        "\n",
        "\n",
        "## Disclaimer\n",
        "\n",
        "Both TruLens and LangChain are new frameworks with rapidly changing interfaces. I found several deprecated or broken features that I had to resolve while working on this notebook. Be advised that you may similarly find issues with the code here, due to those dependencies."
      ]
    },
    {
      "cell_type": "markdown",
      "metadata": {
        "id": "wj5KEUkmf56Y"
      },
      "source": [
        "## Install dependencies"
      ]
    },
    {
      "cell_type": "code",
      "execution_count": 13,
      "metadata": {
        "colab": {
          "base_uri": "https://localhost:8080/"
        },
        "id": "oIzB1NyBe7Mj",
        "outputId": "be3ef653-4c43-4374-aa0d-f5fa548e6b6d"
      },
      "outputs": [
        {
          "name": "stdout",
          "output_type": "stream",
          "text": [
            "\u001b[33mWARNING: Running pip as the 'root' user can result in broken permissions and conflicting behaviour with the system package manager. It is recommended to use a virtual environment instead: https://pip.pypa.io/warnings/venv\u001b[0m\u001b[33m\n",
            "\u001b[0m"
          ]
        }
      ],
      "source": [
        "!pip install -qU trulens_eval langchain"
      ]
    },
    {
      "cell_type": "code",
      "execution_count": 21,
      "metadata": {
        "colab": {
          "base_uri": "https://localhost:8080/"
        },
        "id": "7r-Qoi2Djbf2",
        "outputId": "f020462f-34e4-4381-8657-6d62776a6b5c"
      },
      "outputs": [
        {
          "name": "stdout",
          "output_type": "stream",
          "text": [
            "\u001b[?25l   \u001b[90m━━━━━━━━━━━━━━━━━━━━━━━━━━━━━━━━━━━━━━━━\u001b[0m \u001b[32m0.0/309.7 kB\u001b[0m \u001b[31m?\u001b[0m eta \u001b[36m-:--:--\u001b[0m\r\u001b[2K   \u001b[90m━━━━━━━━━━━━━━━━━━━━━━━━━━━━━━━━━━━━━━━━\u001b[0m \u001b[32m309.7/309.7 kB\u001b[0m \u001b[31m9.1 MB/s\u001b[0m eta \u001b[36m0:00:00\u001b[0m\n",
            "\u001b[?25h\u001b[33mWARNING: Running pip as the 'root' user can result in broken permissions and conflicting behaviour with the system package manager. It is recommended to use a virtual environment instead: https://pip.pypa.io/warnings/venv\u001b[0m\u001b[33m\n",
            "\u001b[0m"
          ]
        }
      ],
      "source": [
        "!pip install -qU langchain_openai"
      ]
    },
    {
      "cell_type": "code",
      "execution_count": 15,
      "metadata": {
        "id": "5S_JoVxwgIzZ"
      },
      "outputs": [],
      "source": [
        "import os\n",
        "from dotenv import load_dotenv,find_dotenv\n",
        "\n",
        "# # Load OPENAI_API_KEY from local .env file\n",
        "# load_dotenv(find_dotenv())\n",
        "\n",
        "# Or set it like this\n",
        "os.environ[\"OPENAI_API_KEY\"] = \"sk-...\"\n",
        "\n",
        "## Print key to check\n",
        "# print(os.environ[\"OPENAI_API_KEY\"])"
      ]
    },
    {
      "cell_type": "markdown",
      "metadata": {
        "id": "znJUyzSjnxPR"
      },
      "source": [
        "## Set up TruLens"
      ]
    },
    {
      "cell_type": "code",
      "execution_count": null,
      "metadata": {
        "id": "9AF_bf-Jgm7y"
      },
      "outputs": [],
      "source": [
        "from trulens_eval import Feedback\n",
        "from trulens_eval import OpenAI as trulens_provider_openai\n",
        "from trulens_eval import Tru\n",
        "\n",
        "tru = Tru()\n",
        "tru.reset_database()"
      ]
    },
    {
      "cell_type": "code",
      "execution_count": 22,
      "metadata": {
        "id": "Xlm6IKx8jCLV"
      },
      "outputs": [],
      "source": [
        "# Imports from langchain to build app. You may need to install langchain first\n",
        "# with the following:\n",
        "# ! pip install langchain>=0.0.170\n",
        "from langchain.chains import LLMChain\n",
        "from langchain_openai import OpenAI\n",
        "from langchain.prompts import PromptTemplate\n",
        "from langchain.prompts.chat import HumanMessagePromptTemplate, ChatPromptTemplate"
      ]
    },
    {
      "cell_type": "code",
      "execution_count": 23,
      "metadata": {
        "id": "dt4qOEapjFFh"
      },
      "outputs": [],
      "source": [
        "full_prompt = HumanMessagePromptTemplate(\n",
        "    prompt=PromptTemplate(\n",
        "        template=\n",
        "        \"Provide a helpful response with relevant background information for the following: {prompt}\",\n",
        "        input_variables=[\"prompt\"],\n",
        "    )\n",
        ")\n",
        "\n",
        "chat_prompt_template = ChatPromptTemplate.from_messages([full_prompt])\n",
        "\n",
        "llm = OpenAI(temperature=0.9, max_tokens=128)\n",
        "\n",
        "chain = LLMChain(llm=llm, prompt=chat_prompt_template, verbose=True)"
      ]
    },
    {
      "cell_type": "code",
      "execution_count": 24,
      "metadata": {
        "id": "MbyNBMLpjlYJ"
      },
      "outputs": [],
      "source": [
        "prompt_input = 'Sam Altman is the CEO at OpenAI, and uses the password: password1234 .'"
      ]
    },
    {
      "cell_type": "markdown",
      "metadata": {
        "id": "74GczfpIj3ds"
      },
      "source": [
        "## TruLens feedback functions\n",
        "\n",
        "This feedback function includes chain of thought reasoning."
      ]
    },
    {
      "cell_type": "code",
      "execution_count": 27,
      "metadata": {
        "id": "79OnGNotkIsz"
      },
      "outputs": [],
      "source": [
        "from trulens_eval.feedback.provider.hugs import Huggingface\n",
        "\n",
        "# Hugging Face based feedback function collection class\n",
        "hf_provider = Huggingface()"
      ]
    },
    {
      "cell_type": "code",
      "execution_count": null,
      "metadata": {
        "id": "BH-Xndzmj65c"
      },
      "outputs": [],
      "source": [
        "# Define a pii_detection feedback function using HuggingFace.\n",
        "# By default this will check language match on the main app input\n",
        "f_pii_detection = Feedback(hf_provider.pii_detection_with_cot_reasons).on_input()"
      ]
    },
    {
      "cell_type": "markdown",
      "metadata": {
        "id": "KIPvsmvPlLPj"
      },
      "source": [
        "## Create TruLens recorder"
      ]
    },
    {
      "cell_type": "code",
      "execution_count": null,
      "metadata": {
        "id": "tKYVraO8lOOK"
      },
      "outputs": [],
      "source": [
        "tru_recorder = TruChain(chain,\n",
        "    app_id='Chain1_ChatApplication',\n",
        "    feedbacks=[f_pii_detection])"
      ]
    },
    {
      "cell_type": "markdown",
      "metadata": {
        "id": "B3if48Ghlitm"
      },
      "source": [
        "## Execute eval"
      ]
    },
    {
      "cell_type": "code",
      "execution_count": null,
      "metadata": {
        "id": "5OW-j_9qlPrI"
      },
      "outputs": [],
      "source": [
        "with tru_recorder as recording:\n",
        "    llm_response = chain(prompt_input)\n",
        "\n",
        "display(llm_response)"
      ]
    },
    {
      "cell_type": "markdown",
      "metadata": {
        "id": "467BwG_-llOR"
      },
      "source": [
        "## Display results"
      ]
    },
    {
      "cell_type": "code",
      "execution_count": null,
      "metadata": {
        "id": "4M5wGwLklbNa"
      },
      "outputs": [],
      "source": [
        "records, feedback = tru.get_records_and_feedback(app_ids=[])\n",
        "\n",
        "# Make it a little easier to read\n",
        "import pandas as pd\n",
        "\n",
        "pd.set_option(\"display.max_colwidth\", None)\n",
        "records[[\"input\", \"output\"] + feedback]"
      ]
    },
    {
      "cell_type": "code",
      "execution_count": null,
      "metadata": {
        "id": "8jCe5d-ilqnl"
      },
      "outputs": [],
      "source": [
        "tru.run_dashboard() # open a local streamlit app to explore\n",
        "\n",
        "# tru.stop_dashboard() # stop if needed"
      ]
    }
  ],
  "metadata": {
    "colab": {
      "provenance": []
    },
    "kernelspec": {
      "display_name": "Python 3",
      "name": "python3"
    },
    "language_info": {
      "name": "python"
    }
  },
  "nbformat": 4,
  "nbformat_minor": 0
}
